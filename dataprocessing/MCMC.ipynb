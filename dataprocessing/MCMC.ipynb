{
 "cells": [
  {
   "cell_type": "code",
   "execution_count": 4,
   "metadata": {},
   "outputs": [],
   "source": [
    "import numpy as np\n",
    "import matplotlib.pyplot as plt\n",
    "from scipy.integrate import solve_ivp\n",
    "from scipy.optimize import minimize_scalar\n",
    "import sympy as sp"
   ]
  },
  {
   "cell_type": "markdown",
   "metadata": {},
   "source": [
    "## Individual component"
   ]
  },
  {
   "cell_type": "markdown",
   "metadata": {},
   "source": [
    "For problems 1-6 (for 10 points each), you may approach them analytically first and then use Monte Carlo simulations to confirm the results. You could also explore the answer first with Monte Carlo simulations and then try to understand the results analytically. "
   ]
  },
  {
   "cell_type": "markdown",
   "metadata": {},
   "source": [
    "<b>1. </b> In a Monopoly game, players roll two (fair) dice each with the six faces marked from 1 to 6 to determine how many steps to move forward. What’s the probability of the total being 2, 3, 4,…, 11, 12, respectively?\n"
   ]
  },
  {
   "cell_type": "markdown",
   "metadata": {},
   "source": [
    "**Solution:**\n",
    "\n",
    "\n",
    "- Total 2:  &nbsp;&nbsp;&nbsp;&nbsp;&nbsp;&nbsp;(1+1) &nbsp;&nbsp;&nbsp;&nbsp; Probability = $\\frac{1}{36}$ = $0.027778$\n",
    "- Total 3:  &nbsp;&nbsp;&nbsp;&nbsp;&nbsp;&nbsp;(1+2, 2+1) &nbsp;&nbsp;&nbsp;&nbsp;Probability = $\\frac{2}{36}$ = $0.055556$\n",
    "- Total 4:  &nbsp;&nbsp;&nbsp;&nbsp;&nbsp;&nbsp;(1+3, 2+2, 3+1) &nbsp;&nbsp;&nbsp;&nbsp;Probability = $\\frac{3}{36}$ = $0.083333$\n",
    "- Total 5:  &nbsp;&nbsp;&nbsp;&nbsp;&nbsp;&nbsp;(1+4, 2+3, 3+2, 4+1) &nbsp;&nbsp;&nbsp;&nbsp;Probability = $\\frac{4}{36}$ = $0.111111$\n",
    "- Total 6:  &nbsp;&nbsp;&nbsp;&nbsp;&nbsp;&nbsp;(1+5, 2+4, 3+3, 4+2, 5+1)&nbsp;&nbsp;&nbsp;&nbsp; Probability = $\\frac{5}{36}$ = $0.138889$\n",
    "- Total 7:  &nbsp;&nbsp;&nbsp;&nbsp;&nbsp;&nbsp;(1+6, 2+5, 3+4, 4+3, 5+2, 6+1)&nbsp;&nbsp;&nbsp;&nbsp;Probability = $\\frac{6}{36}$ = $0.166667$\n",
    "- Total 8:  &nbsp;&nbsp;&nbsp;&nbsp;&nbsp;&nbsp;(2+6, 3+5, 4+4, 5+3, 6+2)&nbsp;&nbsp;&nbsp;&nbsp;Probability = $\\frac{5}{36}$ = $0.138889$\n",
    "- Total 9:  &nbsp;&nbsp;&nbsp;&nbsp;&nbsp;&nbsp;(3+6, 4+5, 5+4, 6+3)&nbsp;&nbsp;&nbsp;&nbsp;Probability = $\\frac{4}{36}$ = $0.111111$\n",
    "- Total 10: &nbsp;&nbsp;&nbsp;&nbsp;(4+6, 5+5, 6+4)&nbsp;&nbsp;&nbsp;&nbsp;Probability = $\\frac{3}{36}$ = $0.083333$\n",
    "- Total 11: &nbsp;&nbsp;&nbsp;&nbsp;(5+6, 6+5)&nbsp;&nbsp;&nbsp;&nbsp;Probability = $\\frac{2}{36}$ = $0.055556$\n",
    "- Total 12: &nbsp;&nbsp;&nbsp;&nbsp;(6+6)&nbsp;&nbsp;&nbsp;&nbsp;Probability = $\\frac{1}{36}$ = $0.027778$"
   ]
  },
  {
   "cell_type": "code",
   "execution_count": 5,
   "metadata": {},
   "outputs": [
    {
     "data": {
      "text/plain": [
       "{2: 0.027901,\n",
       " 3: 0.055505,\n",
       " 4: 0.083562,\n",
       " 5: 0.110966,\n",
       " 6: 0.139459,\n",
       " 7: 0.166008,\n",
       " 8: 0.139171,\n",
       " 9: 0.11076,\n",
       " 10: 0.083186,\n",
       " 11: 0.055655,\n",
       " 12: 0.027827}"
      ]
     },
     "execution_count": 5,
     "metadata": {},
     "output_type": "execute_result"
    }
   ],
   "source": [
    "# Number of simulations\n",
    "n_simulations = 1000000\n",
    "\n",
    "# Simulate rolling two dice\n",
    "rolls = np.random.randint(1, 7, size=(n_simulations, 2))\n",
    "totals = np.sum(rolls, axis=1)\n",
    "\n",
    "# Calculate probabilities for each total from 2 to 12\n",
    "probabilities = {total: np.mean(totals == total) for total in range(2, 13)}\n",
    "\n",
    "probabilities"
   ]
  },
  {
   "cell_type": "markdown",
   "metadata": {},
   "source": [
    "<b>2. </b> What is the probability of at least one of the dice shows a “one”? And by symmetry, this should be the case for “two”, “three”, etc., as well."
   ]
  },
  {
   "cell_type": "markdown",
   "metadata": {},
   "source": [
    "**Solution:**\n",
    "\n",
    "\n",
    "The probability that at least one die shows a \"one\":\n",
    "\n",
    "$$1 - \\frac{5}{6} \\times \\frac{5}{6} = \\frac{11}{36} \\approx 0.30555556 = 30.56\\% $$ "
   ]
  },
  {
   "cell_type": "code",
   "execution_count": 6,
   "metadata": {},
   "outputs": [
    {
     "data": {
      "text/plain": [
       "0.30555555555555547"
      ]
     },
     "execution_count": 6,
     "metadata": {},
     "output_type": "execute_result"
    }
   ],
   "source": [
    "# Calculate the probability that neither die shows a \"one\"\n",
    "prob_no_ones = (5/6) * (5/6)\n",
    "\n",
    "# Therefore, the probability that at least one die shows a \"one\"\n",
    "prob_at_least_one_one = 1 - prob_no_ones\n",
    "\n",
    "prob_at_least_one_one"
   ]
  },
  {
   "cell_type": "code",
   "execution_count": 7,
   "metadata": {},
   "outputs": [
    {
     "data": {
      "text/plain": [
       "0.304906"
      ]
     },
     "execution_count": 7,
     "metadata": {},
     "output_type": "execute_result"
    }
   ],
   "source": [
    "# using a Monte Carlo simulation\n",
    "n_simulations = 1000000\n",
    "\n",
    "rolls = np.random.randint(1, 7, size=(n_simulations, 2))\n",
    "\n",
    "has_one = np.any(rolls == 1, axis=1)\n",
    "\n",
    "prob_at_least_one_one = np.mean(has_one)\n",
    "\n",
    "prob_at_least_one_one"
   ]
  },
  {
   "cell_type": "markdown",
   "metadata": {},
   "source": [
    "<b>3. </b> What is the probability of one die showing a “one” and the other showing a “six”?\n"
   ]
  },
  {
   "cell_type": "markdown",
   "metadata": {},
   "source": [
    "**Solution:**\n",
    "\n",
    "- A. The first die shows a \"one\" and the second die shows a \"six\".\n",
    "$$P_A = \\frac{1}{6} \\times \\frac{1}{6}$$\n",
    "- B. The first die shows a \"six\" and the second die shows a \"one\".\n",
    "$$P_B = \\frac{1}{6} \\times \\frac{1}{6}$$\n",
    "\n",
    "Therefore, to find the total probability, we sum the probabilities of these two independent scenarios:\n",
    "\n",
    "$$P(A \\& B) = \\frac{1}{6} \\times \\frac{1}{6} + \\frac{1}{6} \\times \\frac{1}{6} = \\frac{1}{18} \\approx 0.055556 = 5.56\\%$$"
   ]
  },
  {
   "cell_type": "code",
   "execution_count": 8,
   "metadata": {},
   "outputs": [
    {
     "data": {
      "text/plain": [
       "0.055772"
      ]
     },
     "execution_count": 8,
     "metadata": {},
     "output_type": "execute_result"
    }
   ],
   "source": [
    "n_simulations = 1000000\n",
    "rolls = np.random.randint(1, 7, size=(n_simulations, 2))\n",
    "\n",
    "# Check for rolls where one die is a \"one\" and the other is a \"six\"\n",
    "one_and_six = ((rolls[:, 0] == 1) & (rolls[:, 1] == 6)) | ((rolls[:, 0] == 6) & (rolls[:, 1] == 1))\n",
    "\n",
    "# Calculate the empirical probability\n",
    "prob_one_and_six_mc = np.mean(one_and_six)\n",
    "\n",
    "prob_one_and_six_mc"
   ]
  },
  {
   "cell_type": "markdown",
   "metadata": {},
   "source": [
    "<b>4. </b> What is the probability of both dice showing “one”?"
   ]
  },
  {
   "cell_type": "markdown",
   "metadata": {},
   "source": [
    "**Solution:**\n",
    "\n",
    "\n",
    "A. dice show \"one\"\n",
    "$$P_A = \\frac{1}{6} \\times \\frac{1}{6} = \\frac{1}{36} \\approx 0.0278 = 2.78\\%$$"
   ]
  },
  {
   "cell_type": "code",
   "execution_count": 9,
   "metadata": {},
   "outputs": [
    {
     "data": {
      "text/plain": [
       "0.027972"
      ]
     },
     "execution_count": 9,
     "metadata": {},
     "output_type": "execute_result"
    }
   ],
   "source": [
    "n_simulations = 1000000\n",
    "rolls = np.random.randint(1, 7, size=(n_simulations, 2))\n",
    "\n",
    "# Check for both dice showing a \"one\"\n",
    "both_ones_present = (rolls[:, 0] == 1) & (rolls[:, 1] == 1)\n",
    "\n",
    "# Calculate the empirical probability\n",
    "prob_both_ones_mc = np.mean(both_ones_present)\n",
    "\n",
    "prob_both_ones_mc"
   ]
  },
  {
   "cell_type": "markdown",
   "metadata": {},
   "source": [
    "<b>5. </b> Verify the law of total probability: Label the two dice A and B. The probability of die A showing a “one” is equal to sum of the joint probabilities of the two dice with die A showing a “one” and all possible outcomes for die B."
   ]
  },
  {
   "cell_type": "markdown",
   "metadata": {},
   "source": [
    "**Solution:**\n",
    "\n",
    "The probability that die A shows a \"one\".\n",
    "$$P(A=1)$$\n",
    "\n",
    "The joint probability that die A shows a \"one\" and die B shows $i$, where $i$ ranges from 1 to 6 (all possible outcomes for die B).\n",
    "\n",
    "\n",
    "$P(A=1 \\cap B = i)$, for the total probability states that:\n",
    " \n",
    "$$P(A=1 \\cap B = 1) + P(A=1 \\cap B = 2) + P(A=1 \\cap B = 3) + P(A=1 \\cap B = 4) + P(A=1 \\cap B = 5) + P(A=1 \\cap B = 6)$$\n",
    "\n",
    "Substituting the probabilities:\n",
    "\n",
    "$$P(A=1) = 6 \\times (\\frac{1}{6} \\times \\frac{1}{6}) \\approx 0.166667 = 16.67\\% $$\n"
   ]
  },
  {
   "cell_type": "code",
   "execution_count": 10,
   "metadata": {},
   "outputs": [
    {
     "data": {
      "text/plain": [
       "{'P(A=1) Direct': 0.16666666666666666,\n",
       " 'Sum of Joint Probabilities': 0.16666666666666666,\n",
       " 'Verification': True}"
      ]
     },
     "execution_count": 10,
     "metadata": {},
     "output_type": "execute_result"
    }
   ],
   "source": [
    "p_a_1_direct = 1/6\n",
    "\n",
    "# Joint probabilities for each outcome of die B when die A shows a \"one\"\n",
    "joint_probabilities_sum = 6 * (1/6 * 1/6)\n",
    "\n",
    "# Verify if the direct probability equals the sum of the joint probabilities\n",
    "direct_vs_joint = {\n",
    "    \"P(A=1) Direct\": p_a_1_direct,\n",
    "    \"Sum of Joint Probabilities\": joint_probabilities_sum,\n",
    "    \"Verification\": p_a_1_direct == joint_probabilities_sum\n",
    "}\n",
    "\n",
    "direct_vs_joint"
   ]
  },
  {
   "cell_type": "code",
   "execution_count": 11,
   "metadata": {},
   "outputs": [
    {
     "data": {
      "text/plain": [
       "(0.166611, 0.166611)"
      ]
     },
     "execution_count": 11,
     "metadata": {},
     "output_type": "execute_result"
    }
   ],
   "source": [
    "n_simulations = 1000000\n",
    "rolls = np.random.randint(1, 7, size=(n_simulations, 2))\n",
    "\n",
    "# Calculate the empirical probability of die A showing a \"one\"\n",
    "prob_die_A_one = np.mean(rolls[:, 0] == 1)\n",
    "\n",
    "# Calculate joint probabilities for die A showing a \"one\" and all outcomes for die B\n",
    "joint_probs = [np.mean((rolls[:, 0] == 1) & (rolls[:, 1] == outcome)) for outcome in range(1, 7)]\n",
    "\n",
    "# Sum of the joint probabilities\n",
    "sum_joint_probs = sum(joint_probs)\n",
    "\n",
    "prob_die_A_one, sum_joint_probs"
   ]
  },
  {
   "cell_type": "markdown",
   "metadata": {},
   "source": [
    "<b>6. </b> After someone rolled the two dice in secret, it is revealed that one of the dice (but not necessarily only one) shows a “six”. What is the chance that the other die shows a “one”?"
   ]
  },
  {
   "cell_type": "markdown",
   "metadata": {},
   "source": [
    "**Solution:**\n",
    "\n",
    "- A: The event that one die shows a \"one\".\n",
    "- B: The event that at least one die shows a \"six\".\n",
    "\n",
    "In this question, we need to find $P(A|B)$, which is the probability if A given B, thus:\n",
    "$$P(A|B) = \\frac{P(A \\cap B)}{P(B)}$$\n",
    "\n",
    "The event $A \\cap B$ happens when the first die shows a \"one\" and the second die shows a \"six\". or the first die shows a \"six\" and the second die shows a \"one\":\n",
    "\n",
    "$P(A \\cap B) = \\frac{1}{6} \\times \\frac{1}{6} + \\frac{1}{6} \\times \\frac{1}{6} = \\frac{1}{18}$\n",
    "\n",
    "The event B, can be calculated using the complement rule (similar to a previous 'at least'problem):\n",
    "\n",
    "$P(B)$ = 1 - P(No die shows a 'six') = $1 - \\frac{5}{6} \\times \\frac{5}{6} = \\frac{11}{36}$\n",
    "\n",
    "\n",
    "Apply to the formula:\n",
    "$$P(A|B) = \\frac{P(A \\cap B)}{P(B)} = \\frac{\\frac{1}{18}}{\\frac{11}{36}} \\approx 0.181818 = 18.18\\%$$\n"
   ]
  },
  {
   "cell_type": "code",
   "execution_count": 12,
   "metadata": {},
   "outputs": [
    {
     "data": {
      "text/plain": [
       "0.18181818181818185"
      ]
     },
     "execution_count": 12,
     "metadata": {},
     "output_type": "execute_result"
    }
   ],
   "source": [
    "# Calculate P(B)\n",
    "p_b = 1 - (5/6) * (5/6)\n",
    "\n",
    "# Calculate P(A ∩ B)\n",
    "p_a_and_b = (1/6) * (1/6) + (1/6) * (1/6)\n",
    "\n",
    "# Calculate P(A|B)\n",
    "p_a_given_b = p_a_and_b / p_b\n",
    "\n",
    "p_a_given_b"
   ]
  },
  {
   "cell_type": "code",
   "execution_count": 18,
   "metadata": {},
   "outputs": [
    {
     "data": {
      "text/plain": [
       "0.18203606930965385"
      ]
     },
     "execution_count": 18,
     "metadata": {},
     "output_type": "execute_result"
    }
   ],
   "source": [
    "n_simulations = 1000000\n",
    "rolls = np.random.randint(1, 7, size=(n_simulations, 2))\n",
    "\n",
    "# Filter rolls where at least one die shows a \"six\"\n",
    "at_least_one_six = np.any(rolls == 6, axis=1)\n",
    "filtered_rolls = rolls[at_least_one_six]\n",
    "\n",
    "# Calculate the chance that the other die shows a \"one\" among these filtered rolls\n",
    "other_die_one = np.any(filtered_rolls == 1, axis=1)\n",
    "\n",
    "# Calculate the proportion\n",
    "chance_other_die_one = np.mean(other_die_one)\n",
    "\n",
    "chance_other_die_one"
   ]
  },
  {
   "cell_type": "markdown",
   "metadata": {},
   "source": [
    "For problems 1-6, turn in the code, results, and your explanations. "
   ]
  },
  {
   "cell_type": "markdown",
   "metadata": {},
   "source": [
    "<b>7. </b>(20 points) Optimal pool size for COVID-19 surveillance, Part 2. For some background, review Part 1 on the Canvas Site (go to “Modules” then “Course Overview Slides”). We want to choose the pool size to minimize the total number of tests needed to identify the people who have the virus. We will use the two-stage pooling strategy: if a pooled sample tests positive then all people in the group will be given an individual test, if a pooled sample tests negative, then all people in the group are considered virus free. We will assume the test is sensitive enough such that if one person in the pool is infected, the pooled sample will test positive. Let $N$ be the total population, p be the probability of a randomly selected person having the virus (i.e. the prevalence of the virus) already determined through random testing, and s be the pool size.\n",
    "\n",
    "- a)\tExpress the probability of a pooled sample with pool size s testing positive in terms of $p$ and $s$, assuming the probabilities of individuals in the pool carrying the virus are independent of each other."
   ]
  },
  {
   "cell_type": "markdown",
   "metadata": {},
   "source": [
    "**Solutions**\n",
    "\n",
    "First, we clarify the variables of problem:\n",
    "\n",
    "- $N$: Total population.\n",
    "\n",
    "- $p$: the probability of a randomly selected person being infected.\n",
    "\n",
    "- $s$: Pool size, the number of individuals in each pooled sample.\n",
    "\n",
    "Assuming the probabilities of individuals in the pool carrying the virus are independent of each other, then the probability of a single individual not carrying the virus is $1-p$ and the probability of all $s$ individuals in the pool do not carry the virus is the product of their individual probabilities of being virus-free(Negtive):\n",
    "\n",
    "$$P(\\text{Negtive}) = (1-p)^s$$\n",
    "\n",
    "At least one individual in the pool carries the virus would result in the pooled sample testing positive. Therefore, the probability of the pooled sample testing positive is:\n",
    "\n",
    "$$P(\\text{Sample Positive}) = 1 - P(\\text{Negtive}) = 1 - (1-p)^s$$\n",
    "\n",
    "Thus, the probability of a pooled sample with pool size $s$ testing positive (given the independence of individuals' probabilities):\n",
    "$$P(Positive) = P(\\text{Sample Positive}) = 1 - P(\\text{Negtive}) = 1 - (1-p)^s$$\n",
    "\n"
   ]
  },
  {
   "cell_type": "markdown",
   "metadata": {},
   "source": [
    "- b)\tExpress the expected value of the total number of tests needed $T$ in terms of $N$, $p$, and $s$.\n"
   ]
  },
  {
   "cell_type": "markdown",
   "metadata": {},
   "source": [
    "**Solutions**\n",
    "\n",
    "First, we clarify the variables of problem:\n",
    "\n",
    "- Tests needed $T$ \n",
    "- Total population $N$\n",
    "- Rates of the Positive $p$\n",
    "- Pool size $s$ \n",
    "\n",
    "We consider two components of testing:\n",
    "- The number of pooled tests is the total population divided by the pool size: $\\frac{N}{s}$\n",
    "- Individual Tests for Positive Pools: $1 - (1-p)^s$\n",
    "- The expected number of individual tests : $N \\times (1 - (1-p)^s)$\n",
    "\n",
    "Therefore the total expected number of tests needs $T$:\n",
    "\n",
    "$$T = \\frac{N}{s} + N \\times (1 - (1-p)^s) $$\n",
    "\n",
    "\n"
   ]
  },
  {
   "cell_type": "markdown",
   "metadata": {},
   "source": [
    "- c)\tVary $p$ between 0.001 and 0.4, and for each value of $p$, find the value of s that minimizes the expected value of $T$, $E(T)$. To find the optimal $s$, you can either use an optimization function in Matlab or Python or set the derivative of $E(T)$ with respect to s to zero and use a root finding function in Matlab or Python. You could also try a symbolic solver, but it is not required. "
   ]
  },
  {
   "cell_type": "markdown",
   "metadata": {},
   "source": [
    "**Solutions**"
   ]
  },
  {
   "cell_type": "code",
   "execution_count": 24,
   "metadata": {},
   "outputs": [
    {
     "data": {
      "text/latex": [
       "$\\displaystyle - N \\left(1 - p\\right)^{s} \\log{\\left(1 - p \\right)} - \\frac{N}{s^{2}}$"
      ],
      "text/plain": [
       "-N*(1 - p)**s*log(1 - p) - N/s**2"
      ]
     },
     "execution_count": 24,
     "metadata": {},
     "output_type": "execute_result"
    }
   ],
   "source": [
    "# Define symbols\n",
    "p, s = sp.symbols('p s', real=True, positive=True)\n",
    "N = sp.Symbol('N', real=True, positive=True)\n",
    "\n",
    "# Function for the expected number of tests E(T)\n",
    "E_T = N/s + N * (1 - (1 - p)**s)\n",
    "\n",
    "# Compute the derivative of E(T) with respect to s\n",
    "dE_T_ds = sp.diff(E_T, s)\n",
    "\n",
    "dE_T_ds\n"
   ]
  },
  {
   "cell_type": "code",
   "execution_count": 61,
   "metadata": {},
   "outputs": [
    {
     "data": {
      "text/plain": [
       "[32.12707390406631,\n",
       " 14.610154613404136,\n",
       " 11.02087690091677,\n",
       " 9.259359114933876,\n",
       " 8.165468287781655,\n",
       " 7.402466727160018,\n",
       " 6.831694972971822,\n",
       " 6.38422241177823,\n",
       " 6.021404000455703,\n",
       " 5.719673262204866]"
      ]
     },
     "execution_count": 61,
     "metadata": {},
     "output_type": "execute_result"
    }
   ],
   "source": [
    "N = 10000\n",
    "p_values = np.linspace(0.001, 0.4, 100)\n",
    "\n",
    "# Compute the derivative of E(T) with respect to s for each value of p\n",
    "def E_T(s, p, N):\n",
    "    if s < 1:\n",
    "        return float('inf')\n",
    "    return N/s + N * (1 - (1 - p)**s)\n",
    "\n",
    "optimal_s_values = [minimize_scalar(lambda s: E_T(s, p, N)).x for p in p_values]\n",
    "\n",
    "optimal_s_values[:10]\n"
   ]
  },
  {
   "cell_type": "code",
   "execution_count": 62,
   "metadata": {},
   "outputs": [
    {
     "data": {
      "image/png": "[encoded data removed]",
      "text/plain": [
       "<Figure size 640x480 with 1 Axes>"
      ]
     },
     "metadata": {},
     "output_type": "display_data"
    }
   ],
   "source": [
    "# Plot the optimal s as a function of p\n",
    "plt.plot(p_values, optimal_s_values, label='Optimal s')\n",
    "plt.xlabel('Prevalence (p)')\n",
    "plt.ylabel('Optimal Pool Size (s)')\n",
    "plt.title('Optimal Pool Size vs. Virus Prevalence')\n",
    "plt.legend()\n",
    "plt.grid(True)\n",
    "plt.show()"
   ]
  },
  {
   "cell_type": "markdown",
   "metadata": {},
   "source": [
    "## Group component (To be completed in groups of 3 or 4. Members of the same group can turn in the same code and write-up. Please list the names of your group members.) "
   ]
  },
  {
   "cell_type": "markdown",
   "metadata": {},
   "source": [
    "<b>10. </b>(10 points) Valentine’s day. Valentine’s day is around the corner. Suppose you would like to set up a flower stand. How many roses would you order? If you order too many, roses are perishable and those that are not sold by Valentine’s day’s end will be lost. If you order too few, you will lose valuable sales opportunities. What factors would you consider, what information would you gather, what approaches (deterministic or probabilistic) would you take towards building a mathematical model to help the decision making? You are only asked to sketch out some ideas; no equations are necessary at this stage. Happy Valentine’s Day, everyone!"
   ]
  },
  {
   "cell_type": "markdown",
   "metadata": {},
   "source": [
    "**Solution**\n",
    "\n",
    "\n",
    "#### The number I order will considering on the following factors:\n",
    "\n",
    "    - Historical Sales Data \n",
    "    - Population in this area (rates of the age, gender, etc.. )\n",
    "    - The shelf life of roses and the rate of spoilage\n",
    "    - Competitor Analysis: Pricing, promotions, and product offerings from nearby competitors.\n",
    "\n",
    "\n",
    "#### How to Building the Model:\n",
    "\n",
    "Deterministic Method Model\n",
    "- A deterministic model could use fixed inputs such as historical sales data and fixed costs, to predict a safe number of roses to order.\n",
    "    - minimum number of roses that need to be sold to cover costs\n",
    "    - Using historical data to predict sales, adjusting for any known factors affecting this year's demand.\n",
    "\n",
    "Probabilistic Method Model\n",
    "- A probabilistic model acknowledges uncertainty and uses probability distributions to estimate outcomes. This might involve:\n",
    "    - Bayesian Models\n",
    "    - Monte Carlo Simulations Models"
   ]
  }
 ],
 "metadata": {
  "kernelspec": {
   "display_name": "Python 3",
   "language": "python",
   "name": "python3"
  },
  "language_info": {
   "codemirror_mode": {
    "name": "ipython",
    "version": 3
   },
   "file_extension": ".py",
   "mimetype": "text/x-python",
   "name": "python",
   "nbconvert_exporter": "python",
   "pygments_lexer": "ipython3",
   "version": "3.11.0"
  }
 },
 "nbformat": 4,
 "nbformat_minor": 2
}
