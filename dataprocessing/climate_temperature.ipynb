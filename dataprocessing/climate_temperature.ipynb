{
 "cells": [
  {
   "cell_type": "code",
   "execution_count": 1,
   "metadata": {},
   "outputs": [],
   "source": [
    "import numpy as np\n",
    "import matplotlib.pyplot as plt"
   ]
  },
  {
   "cell_type": "code",
   "execution_count": 2,
   "metadata": {},
   "outputs": [],
   "source": [
    "# Define a function to the temperature tendency of the planet\n",
    "def climate_temperature_tendency(T, S0):\n",
    "    \n",
    "    \"\"\"Compute the temperature tendency of the planet (in Kelvin/seconds)\n",
    "    given global mean surface temperature T (in Kelvin), the solar \n",
    "    constant S0 (in Watts per meter^2), and an assumed heat capacity \n",
    "    defined within the function\n",
    "\n",
    "    Args:\n",
    "        T (numpy.ndarray): global mean surface temperature range (in Kelvin)\n",
    "        S0 (float): solar constant (in Watts per meter^2)\n",
    "\n",
    "    Returns:\n",
    "        numpy.ndarray: temperature tendency of the planet (in Kelvin/seconds)\n",
    "    \"\"\"\n",
    "    \n",
    "    # Define other parameters in the function\n",
    "    sigma = 5.67e-8 # Stephan-Boltzmann constant\n",
    "    H = 1.0e8 # heat capacity of 10^8 Joules/Kelvin\n",
    "    \n",
    "    # Define the albedo\n",
    "    albedo = max(min(0.6, 0.3*(1+(273-T)/10)), 0.3)\n",
    "    F = ((1-albedo)*S0/4 - sigma*T**4) / H\n",
    "    \n",
    "    return F"
   ]
  },
  {
   "cell_type": "code",
   "execution_count": null,
   "metadata": {},
   "outputs": [],
   "source": []
  }
 ],
 "metadata": {
  "kernelspec": {
   "display_name": "tf",
   "language": "python",
   "name": "python3"
  },
  "language_info": {
   "codemirror_mode": {
    "name": "ipython",
    "version": 3
   },
   "file_extension": ".py",
   "mimetype": "text/x-python",
   "name": "python",
   "nbconvert_exporter": "python",
   "pygments_lexer": "ipython3",
   "version": "3.11.10"
  }
 },
 "nbformat": 4,
 "nbformat_minor": 2
}
